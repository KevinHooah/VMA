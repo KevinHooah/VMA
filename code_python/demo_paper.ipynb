{
 "cells": [
  {
   "cell_type": "markdown",
   "metadata": {},
   "source": [
    "### Introduction"
   ]
  },
  {
   "cell_type": "markdown",
   "metadata": {},
   "source": [
    "This is the code for the proposed VMA framework's model training, prediction fusion, confidence-based pseudo-labeled data selection and weight-reusing based model transfer.\n",
    "Some disclamation of this demo notebook:\n",
    "- This notebook assumes you have cleaned the data, extracted the feature and have a transfer path. We use hand-crafted feature in our original paper. If you are a fan of deep features, please refer to `demo_future_direction.ipynb`.\n",
    "- This notebook has some repetitive code blocks, e.g., data preprocessing, model training. I can certainly wrap them into a function, but I think that will be hard to track. Therefore I keep this style.\n",
    "- For the variable naming. We have mainly two modalities, IMU and Vibration sensor. Also, we have two areas (if you read the paper, you will know). Therefore, you may find similar variables with different tails, like '_v', '_w'. It means this is the variable for specific modality and/or area."
   ]
  },
  {
   "cell_type": "code",
   "execution_count": 1,
   "metadata": {},
   "outputs": [
    {
     "name": "stderr",
     "output_type": "stream",
     "text": [
      "Intel(R) Extension for Scikit-learn* enabled (https://github.com/intel/scikit-learn-intelex)\n"
     ]
    }
   ],
   "source": [
    "'''\n",
    "Coded by Kevin Hu.\n",
    "Contact: www.kevin-hu.com\n",
    "'''\n",
    "import warnings\n",
    "warnings.filterwarnings(\"ignore\")\n",
    "import pandas as pd\n",
    "import numpy as np\n",
    "import matplotlib.pyplot as plt\n",
    "from sklearnex import patch_sklearn\n",
    "patch_sklearn()\n",
    "from sklearn.model_selection import train_test_split\n",
    "from sklearn.preprocessing import StandardScaler\n",
    "from sklearn.preprocessing import OneHotEncoder\n",
    "from scipy.io import loadmat\n",
    "from scipy.io import savemat\n",
    "import tensorflow as tf\n",
    "from tensorflow import keras\n",
    "from tensorflow.keras import layers\n",
    "from utils import *"
   ]
  },
  {
   "cell_type": "markdown",
   "metadata": {},
   "source": [
    "### Prepare Data"
   ]
  },
  {
   "cell_type": "code",
   "execution_count": 2,
   "metadata": {},
   "outputs": [],
   "source": [
    "# order of transfer\n",
    "# person/subject\n",
    "sub = [4,3,3]\n",
    "# location\n",
    "loc = [2,2,1]"
   ]
  },
  {
   "cell_type": "code",
   "execution_count": 3,
   "metadata": {},
   "outputs": [],
   "source": [
    "batch_size = 256\n",
    "num_epoch = 300\n",
    "l_r = 0.001 # learning rate\n",
    "verbose = 0 # verbose for model train information, if verbose, loss of epochs will show\n",
    "save_inter = 1 # whether save the intermediate result or not\n",
    "save_final = 1 # whether save the final result or not\n",
    "eta = 0.8 # the threshold for confidence-based pseudo-label selection"
   ]
  },
  {
   "cell_type": "code",
   "execution_count": 4,
   "metadata": {},
   "outputs": [],
   "source": [
    "# loss function and optimizer for each modality\n",
    "loss_i = keras.losses.CategoricalCrossentropy(from_logits=True)\n",
    "loss_v = keras.losses.CategoricalCrossentropy(from_logits=True)\n",
    "opt_i= keras.optimizers.Adam(learning_rate=l_r)\n",
    "opt_v= keras.optimizers.Adam(learning_rate=l_r)\n",
    "# performance metric for first-step analysis\n",
    "acc_metric = keras.metrics.CategoricalAccuracy()"
   ]
  },
  {
   "cell_type": "code",
   "execution_count": 5,
   "metadata": {},
   "outputs": [],
   "source": [
    "# read in the data\n",
    "imu_path = '../data_extracted/imu/'\n",
    "vib_path = '../data_extracted/vib/'\n",
    "df1 = pd.read_csv(imu_path + 'p' + str(sub[0]) + 'l' + str(loc[0]) + '_extr.csv')\n",
    "df2 = pd.read_csv(imu_path + 'p' + str(sub[1]) + 'l' + str(loc[1]) + '_extr.csv')\n",
    "df3 = pd.read_csv(vib_path + 'p' + str(sub[0]) + 'l' + str(loc[0]) + '_vib_extr.csv')\n",
    "df4 = pd.read_csv(vib_path + 'p' + str(sub[1]) + 'l' + str(loc[1]) + '_vib_extr.csv')\n",
    "\n",
    "# df 5 and df6 are the data for the final transfer\n",
    "df5 = pd.read_csv(imu_path + 'p' + str(sub[2]) + 'l' + str(loc[2]) + '_extr.csv')\n",
    "df6 = pd.read_csv(vib_path + 'p' + str(sub[2]) + 'l' + str(loc[2]) + '_vib_extr.csv') \n",
    "\n",
    "# name coded for further convenience \n",
    "d1_i = df1\n",
    "d2_i = df2\n",
    "d3_i = df5\n",
    "d1_v = df3\n",
    "d2_v = df4\n",
    "d3_v = df6\n"
   ]
  },
  {
   "cell_type": "code",
   "execution_count": 6,
   "metadata": {},
   "outputs": [],
   "source": [
    "##  Studing Area (w for working)\n",
    "d1_i_w = d1_i[d1_i['co']==1]\n",
    "d2_i_w = d2_i[d2_i['co']==1]\n",
    "d3_i_w = d3_i[d3_i['co']==1]\n",
    "d1_v_w = d1_v[d1_v['co']==1]\n",
    "d2_v_w = d2_v[d2_v['co']==1]\n",
    "d3_v_w = d3_v[d3_v['co']==1]\n",
    "\n",
    "##  Living Area (k for kitchen)\n",
    "d1_i_k = d1_i[d1_i['co']!=1]\n",
    "d2_i_k = d2_i[d2_i['co']!=1]\n",
    "d3_i_k = d3_i[d3_i['co']!=1]\n",
    "d1_v_k = d1_v[d1_v['co']!=1]\n",
    "d2_v_k = d2_v[d2_v['co']!=1]\n",
    "d3_v_k = d3_v[d3_v['co']!=1]"
   ]
  },
  {
   "cell_type": "code",
   "execution_count": 7,
   "metadata": {},
   "outputs": [],
   "source": [
    "# form the data\n",
    "# train: source domain \n",
    "# inter: intermdeiate domain \n",
    "# tar: target domain\n",
    "train_i_w = d1_i_w\n",
    "inter_i_w = d2_i_w\n",
    "tar_i_w = d3_i_w\n",
    "train_v_w = d1_v_w\n",
    "inter_v_w = d2_v_w\n",
    "tar_v_w = d3_v_w\n",
    "\n",
    "train_i_k = d1_i_k\n",
    "inter_i_k = d2_i_k\n",
    "tar_i_k = d3_i_k\n",
    "\n",
    "train_v_k = d1_v_k\n",
    "inter_v_k = d2_v_k\n",
    "tar_v_k = d3_v_k"
   ]
  },
  {
   "cell_type": "code",
   "execution_count": 8,
   "metadata": {},
   "outputs": [],
   "source": [
    "# IMU of activities in Studying Area\n",
    "X_train_i_w = train_i_w.iloc[:,2:]\n",
    "y_train_i_w = train_i_w.iloc[:,0]-1 # to have zero-indexing\n",
    "X_inter_i_w = inter_i_w.iloc[:,2:]\n",
    "y_inter_i_w = inter_i_w.iloc[:,0]-1\n",
    "X_tar_i_w = tar_i_w.iloc[:,2:]\n",
    "y_tar_i_w = tar_i_w.iloc[:,0]-1\n",
    "\n",
    "# IMU of activities in Living Area\n",
    "X_train_i_k = train_i_k.iloc[:,2:]\n",
    "y_train_i_k = train_i_k.iloc[:,0]-1\n",
    "X_inter_i_k = inter_i_k.iloc[:,2:]\n",
    "y_inter_i_k = inter_i_k.iloc[:,0]-1\n",
    "X_tar_i_k = tar_i_k.iloc[:,2:]\n",
    "y_tar_i_k = tar_i_k.iloc[:,0]-1\n",
    "\n",
    "# Vibration of activities in Studying Area\n",
    "X_train_v_w = train_v_w.iloc[:,982:] # use studying area vibration sensors \n",
    "y_train_v_w = train_v_w.iloc[:,0]-1\n",
    "X_inter_v_w = inter_v_w.iloc[:,982:]\n",
    "y_inter_v_w = inter_v_w.iloc[:,0]-1\n",
    "X_tar_v_w = tar_v_w.iloc[:,982:]\n",
    "y_tar_v_w = tar_v_w.iloc[:,0]-1\n",
    "\n",
    "# Vibration of activities in Living Area\n",
    "X_train_v_k = train_v_k.iloc[:,2:982] # use living area vibration sensors\n",
    "y_train_v_k = train_v_k.iloc[:,0]-1\n",
    "X_inter_v_k = inter_v_k.iloc[:,2:982]\n",
    "y_inter_v_k = inter_v_k.iloc[:,0]-1\n",
    "X_tar_v_k = tar_v_k.iloc[:,2:982]\n",
    "y_tar_v_k = tar_v_k.iloc[:,0]-1"
   ]
  },
  {
   "cell_type": "code",
   "execution_count": 9,
   "metadata": {},
   "outputs": [],
   "source": [
    "# standardize feature space\n",
    "scaler_ik = StandardScaler()\n",
    "X_train_i_k = scaler_ik.fit_transform(X_train_i_k)\n",
    "X_inter_i_k = scaler_ik.fit_transform(X_inter_i_k)\n",
    "X_tar_i_k = scaler_ik.fit_transform(X_tar_i_k)\n",
    "\n",
    "scaler_iw = StandardScaler()\n",
    "X_train_i_w = scaler_iw.fit_transform(X_train_i_w)\n",
    "X_inter_i_w = scaler_iw.fit_transform(X_inter_i_w)\n",
    "X_tar_i_w = scaler_iw.fit_transform(X_tar_i_w)\n",
    "\n",
    "scaler_vk = StandardScaler()\n",
    "X_train_v_k = scaler_vk.fit_transform(X_train_v_k)\n",
    "X_inter_v_k = scaler_vk.fit_transform(X_inter_v_k)\n",
    "X_tar_v_k = scaler_vk.fit_transform(X_tar_v_k)\n",
    "\n",
    "scaler_vw = StandardScaler()\n",
    "X_train_v_w = scaler_vw.fit_transform(X_train_v_w)\n",
    "X_inter_v_w = scaler_vw.fit_transform(X_inter_v_w)\n",
    "X_tar_v_w = scaler_vw.fit_transform(X_tar_v_w)"
   ]
  },
  {
   "cell_type": "code",
   "execution_count": 10,
   "metadata": {},
   "outputs": [],
   "source": [
    "# prepare the data in the format of neural network for the first run of transfer (source to the intermediate)\n",
    "encoder = OneHotEncoder()\n",
    "# studying area\n",
    "y_train_i_w_keras = encoder.fit_transform(np.array(y_train_i_w).reshape(-1, 1))\n",
    "y_inter_i_w_keras = encoder.fit_transform(np.array(y_inter_i_w).reshape(-1, 1))\n",
    "y_train_i_w_keras = y_train_i_w_keras.todense()\n",
    "y_inter_i_w_keras = y_inter_i_w_keras.todense()\n",
    "\n",
    "y_train_v_w_keras = encoder.fit_transform(np.array(y_train_v_w).reshape(-1, 1))\n",
    "y_inter_v_w_keras = encoder.fit_transform(np.array(y_inter_v_w).reshape(-1, 1))\n",
    "y_train_v_w_keras = y_train_v_w_keras.todense()\n",
    "y_inter_v_w_keras = y_inter_v_w_keras.todense()\n",
    "\n",
    "y_tar_i_w_keras = encoder.fit_transform(np.array(y_tar_i_w).reshape(-1, 1))\n",
    "y_tar_i_w_keras = y_tar_i_w_keras.todense()\n",
    "y_tar_v_w_keras = encoder.fit_transform(np.array(y_tar_v_w).reshape(-1, 1))\n",
    "y_tar_v_w_keras = y_tar_v_w_keras.todense()\n",
    "\n",
    "# split some validation data for monitoring model training\n",
    "X_train_i_w_keras, X_val_i_w_keras, y_train_i_w_keras, y_val_i_w_keras = train_test_split(X_train_i_w, y_train_i_w_keras, test_size=0.2)\n",
    "X_train_v_w_keras, X_val_v_w_keras, y_train_v_w_keras, y_val_v_w_keras = train_test_split(X_train_v_w, y_train_v_w_keras, test_size=0.2)\n",
    "\n",
    "# living area\n",
    "y_train_i_k_keras = encoder.fit_transform(np.array(y_train_i_k).reshape(-1, 1))\n",
    "y_inter_i_k_keras = encoder.fit_transform(np.array(y_inter_i_k).reshape(-1, 1))\n",
    "y_train_i_k_keras = y_train_i_k_keras.todense()\n",
    "y_inter_i_k_keras = y_inter_i_k_keras.todense()\n",
    "\n",
    "y_train_v_k_keras = encoder.fit_transform(np.array(y_train_v_k).reshape(-1, 1))\n",
    "y_inter_v_k_keras = encoder.fit_transform(np.array(y_inter_v_k).reshape(-1, 1))\n",
    "y_train_v_k_keras = y_train_v_k_keras.todense()\n",
    "y_inter_v_k_keras = y_inter_v_k_keras.todense()\n",
    "\n",
    "y_tar_i_k_keras = encoder.fit_transform(np.array(y_tar_i_k).reshape(-1, 1))\n",
    "y_tar_i_k_keras = y_tar_i_k_keras.todense()\n",
    "y_tar_v_k_keras = encoder.fit_transform(np.array(y_tar_v_k).reshape(-1, 1))\n",
    "y_tar_v_k_keras = y_tar_v_k_keras.todense()\n",
    "\n",
    "X_train_i_k_keras, X_val_i_k_keras, y_train_i_k_keras, y_val_i_k_keras = train_test_split(X_train_i_k, y_train_i_k_keras, test_size=0.2)\n",
    "X_train_v_k_keras, X_val_v_k_keras, y_train_v_k_keras, y_val_v_k_keras = train_test_split(X_train_v_k, y_train_v_k_keras, test_size=0.2)\n"
   ]
  },
  {
   "cell_type": "code",
   "execution_count": 11,
   "metadata": {},
   "outputs": [],
   "source": [
    "# format the data into a tf dataset for alternative training\n",
    "# studying area\n",
    "train_i_w_dataset = tf.data.Dataset.from_tensor_slices((X_train_i_w_keras, y_train_i_w_keras))\n",
    "train_i_w_dataset = train_i_w_dataset.shuffle(buffer_size=1024).batch(batch_size)\n",
    "train_v_w_dataset = tf.data.Dataset.from_tensor_slices((X_train_v_w_keras, y_train_v_w_keras))\n",
    "train_v_w_dataset = train_v_w_dataset.shuffle(buffer_size=1024).batch(batch_size)\n",
    "val_i_w_dataset = tf.data.Dataset.from_tensor_slices((X_val_i_w_keras, y_val_i_w_keras))\n",
    "val_i_w_dataset = val_i_w_dataset.batch(batch_size)\n",
    "val_v_w_dataset = tf.data.Dataset.from_tensor_slices((X_val_v_w_keras, y_val_v_w_keras))\n",
    "val_v_w_dataset = val_v_w_dataset.batch(batch_size)\n",
    "inter_i_w_dataset = tf.data.Dataset.from_tensor_slices((X_inter_i_w, y_inter_i_w_keras))\n",
    "inter_i_w_dataset = inter_i_w_dataset.batch(batch_size)\n",
    "inter_v_w_dataset = tf.data.Dataset.from_tensor_slices((X_inter_v_w, y_inter_v_w_keras))\n",
    "inter_v_w_dataset = inter_v_w_dataset.batch(batch_size)\n",
    "\n",
    "# living area\n",
    "train_i_k_dataset = tf.data.Dataset.from_tensor_slices((X_train_i_k_keras, y_train_i_k_keras))\n",
    "train_i_k_dataset = train_i_k_dataset.shuffle(buffer_size=1024).batch(batch_size)\n",
    "train_v_k_dataset = tf.data.Dataset.from_tensor_slices((X_train_v_k_keras, y_train_v_k_keras))\n",
    "train_v_k_dataset = train_v_k_dataset.shuffle(buffer_size=1024).batch(batch_size)\n",
    "val_i_k_dataset = tf.data.Dataset.from_tensor_slices((X_val_i_k_keras, y_val_i_k_keras))\n",
    "val_i_k_dataset = val_i_k_dataset.batch(batch_size)\n",
    "val_v_k_dataset = tf.data.Dataset.from_tensor_slices((X_val_v_k_keras, y_val_v_k_keras))\n",
    "val_v_k_dataset = val_v_k_dataset.batch(batch_size)\n",
    "inter_i_k_dataset = tf.data.Dataset.from_tensor_slices((X_inter_i_k, y_inter_i_k_keras))\n",
    "inter_i_k_dataset = inter_i_k_dataset.batch(batch_size)\n",
    "inter_v_k_dataset = tf.data.Dataset.from_tensor_slices((X_inter_v_k, y_inter_v_k_keras))\n",
    "inter_v_k_dataset = inter_v_k_dataset.batch(batch_size)"
   ]
  },
  {
   "cell_type": "markdown",
   "metadata": {},
   "source": [
    "### Predicting the Intermediate Domain\n",
    "Network for studying area"
   ]
  },
  {
   "cell_type": "code",
   "execution_count": 12,
   "metadata": {},
   "outputs": [],
   "source": [
    "# shared layers\n",
    "share_input = layers.Input(shape=(128,))\n",
    "s_1 = layers.Dense(64, activation=\"elu\", name = 'share_1')(share_input)\n",
    "s_1 = layers.Dropout(0.5)(s_1)\n",
    "s_2 = layers.Dense(32, activation=\"elu\", name = 'share_2')(s_1)\n",
    "s_2 = layers.Dropout(0.5)(s_2)\n",
    "shared_layers_w = keras.Model(inputs=share_input, outputs=s_2, name=\"middle_model\")\n",
    "\n",
    "# modality-specific input layer\n",
    "input_i = layers.Input(shape=(216,))\n",
    "input_v = layers.Input(shape=(980,))\n",
    "x_i_1 = layers.Dense(128, activation=\"elu\", name = 'X_i_1')(input_i)\n",
    "x_i_d = layers.Dropout(0.5, name = 'i_dropout')(x_i_1)\n",
    "x_v_1 = layers.Dense(128, activation=\"elu\", name = 'X_v_1')(input_v)\n",
    "x_v_d = layers.Dropout(0.5, name = 'v_dropout')(x_v_1)\n",
    "\n",
    "# combined together\n",
    "x_imu = shared_layers_w(x_i_d)\n",
    "x_vib = shared_layers_w(x_v_d )\n",
    "output_i = layers.Dense(4)(x_imu)\n",
    "output_v = layers.Dense(3)(x_vib)\n",
    "model_iw = keras.Model(inputs=input_i, outputs=output_i, name=\"imu_model\")\n",
    "model_vw = keras.Model(inputs=input_v, outputs=output_v, name=\"vib_model\")\n",
    "\n",
    "# saving results for further plotting\n",
    "keras.backend.clear_session()\n",
    "train_loss_i = list()\n",
    "val_loss_i = list()\n",
    "train_loss_v = list()\n",
    "val_loss_v = list()"
   ]
  },
  {
   "cell_type": "code",
   "execution_count": 13,
   "metadata": {},
   "outputs": [],
   "source": [
    "flag = 1 # for the alternative training\n",
    "for epoch in range(num_epoch):\n",
    "    if verbose:\n",
    "        print(\"\\nStart of epoch %d\" % (epoch,))\n",
    "    if flag >= 0:\n",
    "        # Iterate over the batches of the dataset.\n",
    "        for step, (x_batch_train_i, y_batch_train_i) in enumerate(train_i_w_dataset):\n",
    "            with tf.GradientTape() as tape:\n",
    "                logits_i = model_iw(x_batch_train_i, training=True)  # Logits for this minibatch\n",
    "                loss_value_i = loss_i(y_batch_train_i, logits_i)\n",
    "            grads_i = tape.gradient(loss_value_i, model_iw.trainable_weights)\n",
    "            opt_i.apply_gradients(zip(grads_i, model_iw.trainable_weights))\n",
    "        if verbose:\n",
    "            print(\"Training loss of model_iw at epoch %d: %.4f\" % (epoch + 1, float(loss_value_i)))\n",
    "\n",
    "        for x_batch_val_i, y_batch_val_i in val_i_w_dataset:\n",
    "            val_logits_i = model_iw(x_batch_val_i, training=False)\n",
    "            val_loss_value_i = loss_i(y_batch_val_i, val_logits_i)\n",
    "        if verbose:\n",
    "            print(\"Val loss of model_iw at epoch %d: %.4f\"% (epoch + 1, float(val_loss_value_i)))\n",
    "        train_loss_i.append(float(loss_value_i))\n",
    "        val_loss_i.append(float(val_loss_value_i))\n",
    "        flag *= -1 # next epoch is trained with another modality\n",
    "\n",
    "    else:\n",
    "        for step, (x_batch_train_v, y_batch_train_v) in enumerate(train_v_w_dataset):\n",
    "            with tf.GradientTape() as tape:\n",
    "                logits_v = model_vw(x_batch_train_v, training=True)  # Logits for this minibatch\n",
    "                loss_value_v = loss_v(y_batch_train_v, logits_v)\n",
    "            grads_v = tape.gradient(loss_value_v, model_vw.trainable_weights)\n",
    "            opt_v.apply_gradients(zip(grads_v, model_vw.trainable_weights))\n",
    "        if verbose:\n",
    "            print(\"Training loss of model_vw at epoch %d: %.4f\"% (epoch + 1, float(loss_value_v)))\n",
    "\n",
    "        for x_batch_val_v, y_batch_val_v in val_v_w_dataset:\n",
    "            val_logits_v = model_vw(x_batch_val_v, training=False)\n",
    "            val_loss_value_v = loss_v(y_batch_val_v, val_logits_v)\n",
    "        if verbose:\n",
    "            print(\"Val loss of model_vw at epoch %d: %.4f\" % (epoch + 1, float(val_loss_value_v)))\n",
    "        train_loss_v.append(float(loss_value_v))\n",
    "        val_loss_v.append(float(val_loss_value_v))\n",
    "        flag *= -1"
   ]
  },
  {
   "cell_type": "code",
   "execution_count": 14,
   "metadata": {},
   "outputs": [
    {
     "data": {
      "image/png": "[encoded data removed]",
      "text/plain": [
       "<Figure size 432x288 with 1 Axes>"
      ]
     },
     "metadata": {
      "needs_background": "light"
     },
     "output_type": "display_data"
    },
    {
     "data": {
      "image/png": "[encoded data removed]",
      "text/plain": [
       "<Figure size 432x288 with 1 Axes>"
      ]
     },
     "metadata": {
      "needs_background": "light"
     },
     "output_type": "display_data"
    }
   ],
   "source": [
    "plt.plot(train_loss_i)\n",
    "plt.plot(val_loss_i)\n",
    "plt.ylabel('Loss')\n",
    "plt.xlabel('epoch')\n",
    "plt.title(\"IMU Loss\")\n",
    "plt.legend(['Train Loss', 'Val Loss'])\n",
    "plt.ylim([0, 4])\n",
    "plt.show()\n",
    "\n",
    "plt.plot(train_loss_v)\n",
    "plt.plot(val_loss_v)\n",
    "plt.ylabel('Loss')\n",
    "plt.xlabel('epoch')\n",
    "plt.title(\"Vibration Loss\")\n",
    "plt.legend(['Train Loss', 'Val Loss'])\n",
    "plt.ylim([0, 4])\n",
    "plt.show()"
   ]
  },
  {
   "cell_type": "code",
   "execution_count": 15,
   "metadata": {},
   "outputs": [],
   "source": [
    "# initialize the confidence matrix\n",
    "inter_imu_conf_w = np.zeros((y_inter_i_w.shape[0],4))\n",
    "inter_vib_conf_w = np.zeros((y_inter_v_w.shape[0],3))\n",
    "tar_imu_conf_w = np.zeros((y_tar_i_w.shape[0],4))\n",
    "tar_vib_conf_w = np.zeros((y_tar_v_w.shape[0],3))\n",
    "# establish tensorflow.data.dataset for prediction evaluation and prediction confidence matrix\n",
    "inter_i_w_dataset_for_eval = tf.data.Dataset.from_tensor_slices((X_inter_i_w, y_inter_i_w_keras))\n",
    "inter_i_w_dataset_for_eval = inter_i_w_dataset_for_eval.batch(1) #set batch size to 1 for to generate the confidence matrix\n",
    "inter_v_w_dataset_for_eval = tf.data.Dataset.from_tensor_slices((X_inter_v_w, y_inter_v_w_keras))\n",
    "inter_v_w_dataset_for_eval = inter_v_w_dataset_for_eval.batch(1)\n",
    "tar_i_w_dataset_for_eval = tf.data.Dataset.from_tensor_slices((X_tar_i_w, y_tar_i_w_keras))\n",
    "tar_i_w_dataset_for_eval = tar_i_w_dataset_for_eval.batch(1)\n",
    "tar_v_w_dataset_for_eval = tf.data.Dataset.from_tensor_slices((X_tar_v_w, y_tar_v_w_keras))\n",
    "tar_v_w_dataset_for_eval = tar_v_w_dataset_for_eval.batch(1)"
   ]
  },
  {
   "cell_type": "code",
   "execution_count": 16,
   "metadata": {},
   "outputs": [
    {
     "name": "stdout",
     "output_type": "stream",
     "text": [
      "Vibration Accuracy: Intermediate Studying 0.9327, Target Studying 0.5000\n",
      "IMU Accuracy: Intermediate Studying 0.6771, Target Studying 0.6842\n"
     ]
    }
   ],
   "source": [
    "inter_acc_v_w, inter_vib_conf_w = model_evaluate(model_vw, acc_metric, inter_v_w_dataset_for_eval, inter_vib_conf_w)\n",
    "inter_acc_i_w, inter_imu_conf_w = model_evaluate(model_iw, acc_metric, inter_i_w_dataset_for_eval, inter_imu_conf_w)\n",
    "tar_acc_v_w, tar_vib_conf_w = model_evaluate(model_vw, acc_metric, tar_v_w_dataset_for_eval, tar_vib_conf_w)\n",
    "tar_acc_i_w, tar_imu_conf_w = model_evaluate(model_iw, acc_metric, tar_i_w_dataset_for_eval, tar_imu_conf_w)\n",
    "print(\"Vibration Accuracy: Intermediate Studying %.4f, Target Studying %.4f\" % (float(inter_acc_v_w),float(tar_acc_v_w)))\n",
    "print(\"IMU Accuracy: Intermediate Studying %.4f, Target Studying %.4f\" % (float(inter_acc_i_w),float(tar_acc_i_w)))"
   ]
  },
  {
   "cell_type": "markdown",
   "metadata": {},
   "source": [
    "Network for Living Area"
   ]
  },
  {
   "cell_type": "code",
   "execution_count": 17,
   "metadata": {},
   "outputs": [],
   "source": [
    "share_input = layers.Input(shape=(128,))\n",
    "s_1 = layers.Dense(64, activation=\"elu\", name = 'share_1')(share_input)\n",
    "s_1 = layers.Dropout(0.5)(s_1)\n",
    "s_2 = layers.Dense(32, activation=\"elu\", name = 'share_2')(s_1)\n",
    "s_2 = layers.Dropout(0.5)(s_2)\n",
    "shared_layers_k = keras.Model(inputs=share_input, outputs=s_2, name=\"middle_model\")\n",
    "\n",
    "input_i = layers.Input(shape=(216,))\n",
    "input_v = layers.Input(shape=(980,))\n",
    "x_i_1 = layers.Dense(128, activation=\"elu\", name = 'X_i_1')(input_i)\n",
    "x_i_d = layers.Dropout(0.5, name = 'i_dropout')(x_i_1)\n",
    "x_v_1 = layers.Dense(128, activation=\"elu\", name = 'X_v_1')(input_v)\n",
    "x_v_d = layers.Dropout(0.5, name = 'v_dropout')(x_v_1)\n",
    "x_imu = shared_layers_k(x_i_d)\n",
    "x_vib = shared_layers_k(x_v_d )\n",
    "output_i = layers.Dense(7)(x_imu)\n",
    "output_v = layers.Dense(5)(x_vib)\n",
    "model_ik = keras.Model(inputs=input_i, outputs=output_i, name=\"imu_model\")\n",
    "model_vk = keras.Model(inputs=input_v, outputs=output_v, name=\"vib_model\")"
   ]
  },
  {
   "cell_type": "code",
   "execution_count": 18,
   "metadata": {},
   "outputs": [],
   "source": [
    "train_loss_i = list()\n",
    "val_loss_i = list()\n",
    "train_loss_v = list()\n",
    "val_loss_v = list()"
   ]
  },
  {
   "cell_type": "code",
   "execution_count": 19,
   "metadata": {},
   "outputs": [],
   "source": [
    "# same thing do it again\n",
    "flag = 1\n",
    "for epoch in range(num_epoch):\n",
    "    if verbose:\n",
    "        print(\"\\nStart of epoch %d\" % (epoch,))\n",
    "    \n",
    "    if flag >= 0:\n",
    "        # Iterate over the batches of the dataset.\n",
    "        for step, (x_batch_train_i, y_batch_train_i) in enumerate(train_i_k_dataset):\n",
    "            with tf.GradientTape() as tape:\n",
    "                logits_i = model_ik(x_batch_train_i, training=True)  # Logits for this minibatch\n",
    "                loss_value_i = loss_i(y_batch_train_i, logits_i)\n",
    "            grads_i = tape.gradient(loss_value_i, model_ik.trainable_weights)\n",
    "            opt_i.apply_gradients(zip(grads_i, model_ik.trainable_weights))\n",
    "        if verbose:\n",
    "            print(\"Training loss of model_ik at epoch %d: %.4f\"% (epoch + 1, float(loss_value_i)))\n",
    "        for x_batch_val_i, y_batch_val_i in val_i_k_dataset:\n",
    "            val_logits_i = model_ik(x_batch_val_i, training=False)\n",
    "            val_loss_value_i = loss_i(y_batch_val_i, val_logits_i)\n",
    "        if verbose:    \n",
    "            print(\"Val loss of model_ik at epoch %d: %.4f\" % (epoch + 1, float(val_loss_value_i)))\n",
    "        train_loss_i.append(float(loss_value_i))\n",
    "        val_loss_i.append(float(val_loss_value_i))\n",
    "        flag *= -1\n",
    "    else:\n",
    "        for step, (x_batch_train_v, y_batch_train_v) in enumerate(train_v_k_dataset):\n",
    "            with tf.GradientTape() as tape:\n",
    "                logits_v = model_vk(x_batch_train_v, training=True)  # Logits for this minibatch\n",
    "                loss_value_v = loss_v(y_batch_train_v, logits_v)\n",
    "            grads_v = tape.gradient(loss_value_v, model_vk.trainable_weights)\n",
    "            opt_v.apply_gradients(zip(grads_v, model_vk.trainable_weights))\n",
    "        if verbose:\n",
    "            print(\"Training loss of model_vk at epoch %d: %.4f\"% (epoch + 1, float(loss_value_v)))\n",
    "        for x_batch_val_v, y_batch_val_v in val_v_k_dataset:\n",
    "            val_logits_v = model_vk(x_batch_val_v, training=False)\n",
    "            val_loss_value_v = loss_v(y_batch_val_v, val_logits_v)\n",
    "        if verbose:\n",
    "            print(\"Val loss of model_vk at epoch %d: %.4f\" % (epoch + 1, float(val_loss_value_v)))\n",
    "        train_loss_v.append(float(loss_value_v))\n",
    "        val_loss_v.append(float(val_loss_value_v))\n",
    "        flag *= -1"
   ]
  },
  {
   "cell_type": "code",
   "execution_count": 20,
   "metadata": {},
   "outputs": [
    {
     "data": {
      "image/png": "[encoded data removed]",
      "text/plain": [
       "<Figure size 432x288 with 1 Axes>"
      ]
     },
     "metadata": {
      "needs_background": "light"
     },
     "output_type": "display_data"
    },
    {
     "data": {
      "image/png": "[encoded data removed]",
      "text/plain": [
       "<Figure size 432x288 with 1 Axes>"
      ]
     },
     "metadata": {
      "needs_background": "light"
     },
     "output_type": "display_data"
    }
   ],
   "source": [
    "plt.plot(train_loss_i)\n",
    "plt.plot(val_loss_i)\n",
    "plt.ylabel('Loss')\n",
    "plt.xlabel('epoch')\n",
    "plt.title(\"Living Area IMU Loss\")\n",
    "plt.legend(['Train Loss', 'Val Loss'])\n",
    "plt.ylim([0, 3.5])\n",
    "plt.show()\n",
    "\n",
    "plt.plot(train_loss_v)\n",
    "plt.plot(val_loss_v)\n",
    "plt.ylabel('Loss')\n",
    "plt.xlabel('epoch')\n",
    "plt.title(\"Living Area Vibration Loss\")\n",
    "plt.legend(['Train Loss', 'Val Loss'])\n",
    "plt.ylim([0, 3.5])\n",
    "plt.show()\n"
   ]
  },
  {
   "cell_type": "code",
   "execution_count": 21,
   "metadata": {},
   "outputs": [],
   "source": [
    "inter_imu_conf_k = np.zeros((y_inter_i_k.shape[0],7))\n",
    "inter_vib_conf_k = np.zeros((y_inter_v_k.shape[0],5))\n",
    "tar_imu_conf_k = np.zeros((y_tar_i_k.shape[0],7))\n",
    "tar_vib_conf_k = np.zeros((y_tar_v_k.shape[0],5))\n",
    "inter_i_k_dataset_for_eval = tf.data.Dataset.from_tensor_slices((X_inter_i_k, y_inter_i_k_keras))\n",
    "inter_i_k_dataset_for_eval = inter_i_k_dataset_for_eval.batch(1)\n",
    "inter_v_k_dataset_for_eval = tf.data.Dataset.from_tensor_slices((X_inter_v_k, y_inter_v_k_keras))\n",
    "inter_v_k_dataset_for_eval = inter_v_k_dataset_for_eval.batch(1)\n",
    "tar_i_k_dataset_for_eval = tf.data.Dataset.from_tensor_slices((X_tar_i_k, y_tar_i_k_keras))\n",
    "tar_i_k_dataset_for_eval = tar_i_k_dataset_for_eval.batch(1)\n",
    "tar_v_k_dataset_for_eval = tf.data.Dataset.from_tensor_slices((X_tar_v_k, y_tar_v_k_keras))\n",
    "tar_v_k_dataset_for_eval = tar_v_k_dataset_for_eval.batch(1)"
   ]
  },
  {
   "cell_type": "code",
   "execution_count": 22,
   "metadata": {},
   "outputs": [
    {
     "name": "stdout",
     "output_type": "stream",
     "text": [
      "Vibration Accuracy: Intermediate Living 0.8854, Target Living 0.7063\n",
      "IMU Accuracy: Intermediate Living 0.7103, Target Living 0.6536\n"
     ]
    }
   ],
   "source": [
    "inter_acc_v_k, inter_vib_conf_k = model_evaluate(model_vk, acc_metric, inter_v_k_dataset_for_eval, inter_vib_conf_k)\n",
    "inter_acc_i_k, inter_imu_conf_k = model_evaluate(model_ik, acc_metric, inter_i_k_dataset_for_eval, inter_imu_conf_k)\n",
    "tar_acc_v_k, tar_vib_conf_k = model_evaluate(model_vk, acc_metric, tar_v_k_dataset_for_eval, tar_vib_conf_k)\n",
    "tar_acc_i_k, tar_imu_conf_k = model_evaluate(model_ik, acc_metric, tar_i_k_dataset_for_eval, tar_imu_conf_k)\n",
    "print(\"Vibration Accuracy: Intermediate Living %.4f, Target Living %.4f\" % (float(inter_acc_v_k),float(tar_acc_v_k)))\n",
    "print(\"IMU Accuracy: Intermediate Living %.4f, Target Living %.4f\" % (float(inter_acc_i_k),float(tar_acc_i_k)))"
   ]
  },
  {
   "cell_type": "code",
   "execution_count": 23,
   "metadata": {},
   "outputs": [],
   "source": [
    "# Save the intermediate result.\n",
    "if save_inter:\n",
    "    mat_dic = {\"inter_imu_conf_w\": inter_imu_conf_w, \n",
    "            \"inter_vib_conf_w\": inter_vib_conf_w,\n",
    "            \"tar_imu_conf_w\": tar_imu_conf_w,\n",
    "            \"tar_vib_conf_w\": tar_vib_conf_w,\n",
    "            \"inter_imu_conf_k\": inter_imu_conf_k,\n",
    "            \"inter_vib_conf_k\": inter_vib_conf_k,\n",
    "            \"tar_imu_conf_k\": tar_imu_conf_k,\n",
    "            \"tar_vib_conf_k\": tar_vib_conf_k,\n",
    "            }\n",
    "\n",
    "    savemat(\"../output/inter_and_baseline.mat\", mat_dic)"
   ]
  },
  {
   "cell_type": "markdown",
   "metadata": {},
   "source": [
    "### Prediction Fusion\n",
    "Now, you need to go to MATLAB."
   ]
  },
  {
   "cell_type": "markdown",
   "metadata": {},
   "source": [
    "In the matlab, run post_process.m to fuse the multimodal prediction result, and get the fused result back for futher prediction. Remember to load `inter_and_baseline.mat` and comment out the `load final_result.mat` before running.\n",
    "\n",
    "In this current example run\n",
    "\n",
    "- AARA for predicing intermediate doamin: 0.86398\n",
    "- AARA for M-A Direct Predict target domain: 0.70707"
   ]
  },
  {
   "cell_type": "markdown",
   "metadata": {},
   "source": [
    "### Confidence-based Pseudo-labeled Data Selection."
   ]
  },
  {
   "cell_type": "code",
   "execution_count": 24,
   "metadata": {},
   "outputs": [],
   "source": [
    "fuse_result_mat = loadmat('../output/fused_result.mat')\n",
    "conf_i_k = fuse_result_mat['conf_i_k']\n",
    "conf_i_w = fuse_result_mat['conf_i_w']\n",
    "conf_v_k = fuse_result_mat['conf_v_k']\n",
    "conf_v_w = fuse_result_mat['conf_v_w']\n",
    "pseu_i_k = fuse_result_mat['pseu_i_k'] \n",
    "pseu_i_w = fuse_result_mat['pseu_i_w']\n",
    "pseu_v_k = fuse_result_mat['pseu_v_k'] \n",
    "pseu_v_w = fuse_result_mat['pseu_v_w']"
   ]
  },
  {
   "cell_type": "code",
   "execution_count": 25,
   "metadata": {},
   "outputs": [],
   "source": [
    "#select by threshold\n",
    "# ik\n",
    "selected_ik4 = select_by_conf(conf_i_k, pseu_i_k, 4, eta)\n",
    "selected_ik5 = select_by_conf(conf_i_k, pseu_i_k, 5, eta)\n",
    "selected_ik6 = select_by_conf(conf_i_k, pseu_i_k, 6, eta)\n",
    "selected_ik7 = select_by_conf(conf_i_k, pseu_i_k, 7, eta)\n",
    "selected_ik8 = select_by_conf(conf_i_k, pseu_i_k, 8, eta)\n",
    "selected_ik9 = select_by_conf(conf_i_k, pseu_i_k, 9, eta)\n",
    "selected_ik10 = select_by_conf(conf_i_k, pseu_i_k, 10, eta)\n",
    "row_ik = np.concatenate([selected_ik4, selected_ik5, selected_ik6, selected_ik7, selected_ik8, selected_ik9, selected_ik10])\n",
    "\n",
    "# iw\n",
    "selected_iw1 = select_by_conf(conf_i_w, pseu_i_w, 1, eta)\n",
    "selected_iw2 = select_by_conf(conf_i_w, pseu_i_w, 2, eta)\n",
    "selected_iw3 = select_by_conf(conf_i_w, pseu_i_w, 3, eta)\n",
    "selected_iw10 = select_by_conf(conf_i_w, pseu_i_w, 10, eta)\n",
    "row_iw = np.concatenate([selected_iw1, selected_iw2, selected_iw3, selected_iw10])\n",
    "\n",
    "# vk\n",
    "selected_vk4 = select_by_conf(conf_v_k, pseu_v_k, 4, eta)\n",
    "selected_vk5 = select_by_conf(conf_v_k, pseu_v_k, 5, eta)\n",
    "selected_vk6 = select_by_conf(conf_v_k, pseu_v_k, 6, eta)\n",
    "selected_vk8 = select_by_conf(conf_v_k, pseu_v_k, 8, eta)\n",
    "selected_vk9 = select_by_conf(conf_v_k, pseu_v_k, 9, eta)\n",
    "row_vk = np.concatenate([selected_vk4, selected_vk5, selected_vk6, selected_vk8, selected_vk9])\n",
    "\n",
    "# vw\n",
    "selected_vw1 = select_by_conf(conf_v_w, pseu_v_w, 1, eta)\n",
    "selected_vw2 = select_by_conf(conf_v_w, pseu_v_w, 2, eta)\n",
    "selected_vw3 = select_by_conf(conf_v_w, pseu_v_w, 3, eta)\n",
    "row_vw = np.concatenate([selected_vw1, selected_vw2, selected_vw3])"
   ]
  },
  {
   "cell_type": "code",
   "execution_count": 26,
   "metadata": {},
   "outputs": [
    {
     "name": "stdout",
     "output_type": "stream",
     "text": [
      "Dataset volume change: \n",
      "IMU Living: 1595 --> 686\n",
      "Vib Living: 637 --> 321\n",
      "IMU Stding: 638 --> 232\n",
      "Vib Stding: 416 --> 237\n"
     ]
    }
   ],
   "source": [
    "# conduct the selection \n",
    "X_sel_i_k = X_inter_i_k[row_ik]\n",
    "pseu_i_k = pseu_i_k[row_ik]\n",
    "X_sel_i_w = X_inter_i_w[row_iw]\n",
    "pseu_i_w = pseu_i_w[row_iw]\n",
    "X_sel_v_k = X_inter_v_k[row_vk]\n",
    "pseu_v_k = pseu_v_k[row_vk]\n",
    "X_sel_v_w = X_inter_v_w[row_vw]\n",
    "pseu_v_w = pseu_v_w[row_vw]\n",
    "print('Dataset volume change: ')\n",
    "print('IMU Living:', X_inter_i_k.shape[0], '-->', X_sel_i_k.shape[0])\n",
    "print('Vib Living:', X_inter_v_k.shape[0], '-->', X_sel_v_k.shape[0])\n",
    "print('IMU Stding:', X_inter_i_w.shape[0], '-->', X_sel_i_w.shape[0])\n",
    "print('Vib Stding:', X_inter_v_w.shape[0], '-->', X_sel_v_w.shape[0])"
   ]
  },
  {
   "cell_type": "code",
   "execution_count": 27,
   "metadata": {},
   "outputs": [],
   "source": [
    "encoder = OneHotEncoder()\n",
    "# study\n",
    "y_sel_i_w_keras = encoder.fit_transform(pseu_i_w.reshape(-1, 1))\n",
    "y_sel_i_w_keras = y_sel_i_w_keras.todense()\n",
    "y_sel_v_w_keras = encoder.fit_transform(pseu_v_w.reshape(-1, 1))\n",
    "y_sel_v_w_keras = y_sel_v_w_keras.todense()\n",
    "\n",
    "# living\n",
    "y_sel_i_k_keras = encoder.fit_transform(pseu_i_k.reshape(-1, 1))\n",
    "y_sel_i_k_keras = y_sel_i_k_keras.todense()\n",
    "y_sel_v_k_keras = encoder.fit_transform(pseu_v_k.reshape(-1, 1))\n",
    "y_sel_v_k_keras = y_sel_v_k_keras.todense()"
   ]
  },
  {
   "cell_type": "code",
   "execution_count": 28,
   "metadata": {},
   "outputs": [],
   "source": [
    "# format the data into a tf dataset for alternative training\n",
    "# studying area\n",
    "sel_i_w_dataset = tf.data.Dataset.from_tensor_slices((X_sel_i_w, y_sel_i_w_keras))\n",
    "sel_i_w_dataset = sel_i_w_dataset.shuffle(buffer_size=1024).batch(batch_size)\n",
    "sel_v_w_dataset = tf.data.Dataset.from_tensor_slices((X_sel_v_w, y_sel_v_w_keras))\n",
    "sel_v_w_dataset = sel_v_w_dataset.shuffle(buffer_size=1024).batch(batch_size)\n",
    "tar_i_w_dataset = tf.data.Dataset.from_tensor_slices((X_tar_i_w, y_tar_i_w_keras))\n",
    "tar_i_w_dataset = tar_i_w_dataset.shuffle(buffer_size=1024).batch(batch_size)\n",
    "tar_v_w_dataset = tf.data.Dataset.from_tensor_slices((X_tar_v_w, y_tar_v_w_keras))\n",
    "tar_v_w_dataset = tar_v_w_dataset.shuffle(buffer_size=1024).batch(batch_size)\n",
    "\n",
    "# living area\n",
    "sel_i_k_dataset = tf.data.Dataset.from_tensor_slices((X_sel_i_k, y_sel_i_k_keras))\n",
    "sel_i_k_dataset = sel_i_k_dataset.shuffle(buffer_size=1024).batch(batch_size)\n",
    "sel_v_k_dataset = tf.data.Dataset.from_tensor_slices((X_sel_v_k, y_sel_v_k_keras))\n",
    "sel_v_k_dataset = sel_v_k_dataset.shuffle(buffer_size=1024).batch(batch_size)\n",
    "tar_i_k_dataset = tf.data.Dataset.from_tensor_slices((X_tar_i_k, y_tar_i_k_keras))\n",
    "tar_i_k_dataset = tar_i_k_dataset.shuffle(buffer_size=1024).batch(batch_size)\n",
    "tar_v_k_dataset = tf.data.Dataset.from_tensor_slices((X_tar_v_k, y_tar_v_k_keras))\n",
    "tar_v_k_dataset = tar_v_k_dataset.shuffle(buffer_size=1024).batch(batch_size)"
   ]
  },
  {
   "cell_type": "markdown",
   "metadata": {},
   "source": [
    "Studying Area Network"
   ]
  },
  {
   "cell_type": "code",
   "execution_count": 29,
   "metadata": {},
   "outputs": [],
   "source": [
    "# modality-specific input layer\n",
    "input_i = layers.Input(shape=(216,))\n",
    "input_v = layers.Input(shape=(980,))\n",
    "x_i_1 = layers.Dense(128, activation=\"elu\", name = 'X_i_1')(input_i)\n",
    "x_i_d = layers.Dropout(0.5, name = 'i_dropout')(x_i_1)\n",
    "x_v_1 = layers.Dense(128, activation=\"elu\", name = 'X_v_1')(input_v)\n",
    "x_v_d = layers.Dropout(0.5, name = 'v_dropout')(x_v_1)\n",
    "\n",
    "# combined together\n",
    "x_imu = shared_layers_w(x_i_d)\n",
    "x_vib = shared_layers_w(x_v_d )\n",
    "output_i = layers.Dense(4)(x_imu)\n",
    "output_v = layers.Dense(3)(x_vib)\n",
    "model_iw = keras.Model(inputs=input_i, outputs=output_i, name=\"imu_model\")\n",
    "model_vw = keras.Model(inputs=input_v, outputs=output_v, name=\"vib_model\")\n",
    "\n",
    "# saving results for further plotting\n",
    "train_loss_i = list()\n",
    "tar_loss_i = list()\n",
    "train_loss_v = list()\n",
    "tar_loss_v = list()"
   ]
  },
  {
   "cell_type": "code",
   "execution_count": 30,
   "metadata": {},
   "outputs": [],
   "source": [
    "flag = 1\n",
    "for epoch in range(num_epoch):\n",
    "    if verbose:\n",
    "        print(\"\\nStart of epoch %d\" % (epoch,))\n",
    "    if flag >= 0:\n",
    "        # Iterate over the batches of the dataset.\n",
    "        for step, (x_batch_sel_i, y_batch_sel_i) in enumerate(sel_i_w_dataset):\n",
    "            with tf.GradientTape() as tape:\n",
    "                logits_i = model_iw(x_batch_sel_i, training=True)  # Logits for this minibatch\n",
    "                loss_value_i = loss_i(y_batch_sel_i, logits_i)\n",
    "            grads_i = tape.gradient(loss_value_i, model_iw.trainable_weights)\n",
    "            opt_i.apply_gradients(zip(grads_i, model_iw.trainable_weights))\n",
    "        if verbose:\n",
    "            print(\"Training loss of model_iw at epoch %d: %.4f\" % (epoch + 1, float(loss_value_i)))\n",
    "        for x_batch_tar_i, y_batch_tar_i in tar_i_w_dataset:\n",
    "            tar_logits_i = model_iw(x_batch_tar_i, training=False)\n",
    "            tar_loss_value_i = loss_i(y_batch_tar_i, tar_logits_i)\n",
    "        if verbose:\n",
    "            print(\"Val loss of model_iw at epoch %d: %.4f\"% (epoch + 1, float(tar_loss_value_i)))\n",
    "        train_loss_i.append(float(loss_value_i))\n",
    "        tar_loss_i.append(float(tar_loss_value_i))\n",
    "        flag *= -1\n",
    "    else:\n",
    "        for step, (x_batch_sel_v, y_batch_sel_v) in enumerate(sel_v_w_dataset):\n",
    "            with tf.GradientTape() as tape:\n",
    "                logits_v = model_vw(x_batch_sel_v, training=True)  # Logits for this minibatch\n",
    "                loss_value_v = loss_v(y_batch_sel_v, logits_v)\n",
    "            grads_v = tape.gradient(loss_value_v, model_vw.trainable_weights)\n",
    "            opt_v.apply_gradients(zip(grads_v, model_vw.trainable_weights))\n",
    "        if verbose:\n",
    "            print(\"Training loss of model_vw at epoch %d: %.4f\"% (epoch + 1, float(loss_value_v)))\n",
    "        for x_batch_tar_v, y_batch_tar_v in tar_v_w_dataset:\n",
    "            tar_logits_v = model_vw(x_batch_tar_v, training=False)\n",
    "            tar_loss_value_v = loss_v(y_batch_tar_v, tar_logits_v)\n",
    "        if verbose:\n",
    "            print(\"Val loss of model_vw at epoch %d: %.4f\" % (epoch + 1, float(tar_loss_value_v)))\n",
    "        train_loss_v.append(float(loss_value_v))\n",
    "        tar_loss_v.append(float(tar_loss_value_v))\n",
    "        flag *= -1"
   ]
  },
  {
   "cell_type": "code",
   "execution_count": 31,
   "metadata": {},
   "outputs": [
    {
     "data": {
      "image/png": "[encoded data removed]",
      "text/plain": [
       "<Figure size 432x288 with 1 Axes>"
      ]
     },
     "metadata": {
      "needs_background": "light"
     },
     "output_type": "display_data"
    },
    {
     "data": {
      "image/png": "[encoded data removed]",
      "text/plain": [
       "<Figure size 432x288 with 1 Axes>"
      ]
     },
     "metadata": {
      "needs_background": "light"
     },
     "output_type": "display_data"
    }
   ],
   "source": [
    "plt.plot(train_loss_i)\n",
    "plt.plot(val_loss_i)\n",
    "plt.ylabel('Loss')\n",
    "plt.xlabel('epoch')\n",
    "plt.title(\"IMU Loss\")\n",
    "plt.legend(['Train Loss', 'Target Loss'])\n",
    "plt.ylim([0, 4])\n",
    "plt.show()\n",
    "\n",
    "plt.plot(train_loss_v)\n",
    "plt.plot(val_loss_v)\n",
    "plt.ylabel('Loss')\n",
    "plt.xlabel('epoch')\n",
    "plt.title(\"Vibration Loss\")\n",
    "plt.legend(['Train Loss', 'Target Loss'])\n",
    "plt.ylim([0, 4])\n",
    "plt.show()"
   ]
  },
  {
   "cell_type": "code",
   "execution_count": 32,
   "metadata": {},
   "outputs": [],
   "source": [
    "sel_imu_conf_w = np.zeros((pseu_i_w.shape[0],4))\n",
    "sel_vib_conf_w = np.zeros((pseu_v_w.shape[0],3))\n",
    "tar_imu_conf_w = np.zeros((y_tar_i_w.shape[0],4))\n",
    "tar_vib_conf_w = np.zeros((y_tar_v_w.shape[0],3))\n",
    "\n",
    "tar_i_w_dataset_for_eval = tf.data.Dataset.from_tensor_slices((X_tar_i_w, y_tar_i_w_keras))\n",
    "tar_i_w_dataset_for_eval = tar_i_w_dataset_for_eval.batch(1)\n",
    "tar_v_w_dataset_for_eval = tf.data.Dataset.from_tensor_slices((X_tar_v_w, y_tar_v_w_keras))\n",
    "tar_v_w_dataset_for_eval = tar_v_w_dataset_for_eval.batch(1)"
   ]
  },
  {
   "cell_type": "code",
   "execution_count": 33,
   "metadata": {},
   "outputs": [
    {
     "name": "stdout",
     "output_type": "stream",
     "text": [
      "Vibration Accuracy, Target Studing 0.3498\n",
      "IMU Accuracy, Target Studing 0.7569\n"
     ]
    }
   ],
   "source": [
    "tar_acc_v_w, tar_vib_conf_w = model_evaluate(model_vw, acc_metric, tar_v_w_dataset_for_eval , tar_vib_conf_w)\n",
    "tar_acc_i_w, tar_imu_conf_w = model_evaluate(model_iw, acc_metric, tar_i_w_dataset_for_eval , tar_imu_conf_w)\n",
    "print(\"Vibration Accuracy, Target Studing %.4f\" % (float(tar_acc_v_w)))\n",
    "print(\"IMU Accuracy, Target Studing %.4f\" % (float(tar_acc_i_w)))"
   ]
  },
  {
   "cell_type": "markdown",
   "metadata": {},
   "source": [
    "Living Area Network"
   ]
  },
  {
   "cell_type": "code",
   "execution_count": 34,
   "metadata": {},
   "outputs": [],
   "source": [
    "# modality-specific input layer\n",
    "input_i = layers.Input(shape=(216,))\n",
    "input_v = layers.Input(shape=(980,))\n",
    "x_i_1 = layers.Dense(128, activation=\"elu\", name = 'X_i_1')(input_i)\n",
    "x_i_d = layers.Dropout(0.5, name = 'i_dropout')(x_i_1)\n",
    "x_v_1 = layers.Dense(128, activation=\"elu\", name = 'X_v_1')(input_v)\n",
    "x_v_d = layers.Dropout(0.5, name = 'v_dropout')(x_v_1)\n",
    "\n",
    "# combined together\n",
    "x_imu = shared_layers_k(x_i_d)\n",
    "x_vib = shared_layers_k(x_v_d )\n",
    "output_i = layers.Dense(7)(x_imu)\n",
    "output_v = layers.Dense(5)(x_vib)\n",
    "model_ik = keras.Model(inputs=input_i, outputs=output_i, name=\"imu_model\")\n",
    "model_vk = keras.Model(inputs=input_v, outputs=output_v, name=\"vib_model\")\n",
    "\n",
    "# saving results for further plotting\n",
    "train_loss_i = list()\n",
    "tar_loss_i = list()\n",
    "train_loss_v = list()\n",
    "tar_loss_v = list()"
   ]
  },
  {
   "cell_type": "code",
   "execution_count": 35,
   "metadata": {},
   "outputs": [],
   "source": [
    "flag = 1\n",
    "for epoch in range(num_epoch):\n",
    "    if verbose:\n",
    "        print(\"\\nStart of epoch %d\" % (epoch,))\n",
    "    if flag >= 0:\n",
    "        # Iterate over the batches of the dataset.\n",
    "        for step, (x_batch_sel_i, y_batch_sel_i) in enumerate(sel_i_k_dataset):\n",
    "            with tf.GradientTape() as tape:\n",
    "                logits_i = model_ik(x_batch_sel_i, training=True)\n",
    "                loss_value_i = loss_i(y_batch_sel_i, logits_i)\n",
    "            grads_i = tape.gradient(loss_value_i, model_ik.trainable_weights)\n",
    "            opt_i.apply_gradients(zip(grads_i, model_ik.trainable_weights))\n",
    "        if verbose:\n",
    "            print(\"Training loss of model_ik at epoch %d: %.4f\" % (epoch + 1, float(loss_value_i)))\n",
    "        for x_batch_tar_i, y_batch_tar_i in tar_i_k_dataset:\n",
    "            tar_logits_i = model_ik(x_batch_tar_i, training=False)\n",
    "            tar_loss_value_i = loss_i(y_batch_tar_i, tar_logits_i)\n",
    "        if verbose:\n",
    "            print(\"Val loss of model_ik at epoch %d: %.4f\"% (epoch + 1, float(tar_loss_value_i)))\n",
    "        train_loss_i.append(float(loss_value_i))\n",
    "        tar_loss_i.append(float(tar_loss_value_i))\n",
    "        flag *= -1\n",
    "    else:\n",
    "        for step, (x_batch_sel_v, y_batch_sel_v) in enumerate(sel_v_k_dataset):\n",
    "            with tf.GradientTape() as tape:\n",
    "                logits_v = model_vk(x_batch_sel_v, training=True)\n",
    "                loss_value_v = loss_v(y_batch_sel_v, logits_v)\n",
    "            grads_v = tape.gradient(loss_value_v, model_vk.trainable_weights)\n",
    "            opt_v.apply_gradients(zip(grads_v, model_vk.trainable_weights))\n",
    "        if verbose:\n",
    "            print(\"Training loss of model_vk at epoch %d: %.4f\"% (epoch + 1, float(loss_value_v)))\n",
    "        for x_batch_tar_v, y_batch_tar_v in tar_v_k_dataset:\n",
    "            tar_logits_v = model_vk(x_batch_tar_v, training=False)\n",
    "            tar_loss_value_v = loss_v(y_batch_tar_v, tar_logits_v)\n",
    "        if verbose:\n",
    "            print(\"Val loss of model_vk at epoch %d: %.4f\" % (epoch + 1, float(tar_loss_value_v)))\n",
    "        train_loss_v.append(float(loss_value_v))\n",
    "        tar_loss_v.append(float(tar_loss_value_v))\n",
    "        flag *= -1\n"
   ]
  },
  {
   "cell_type": "code",
   "execution_count": 36,
   "metadata": {},
   "outputs": [
    {
     "data": {
      "image/png": "[encoded data removed]",
      "text/plain": [
       "<Figure size 432x288 with 1 Axes>"
      ]
     },
     "metadata": {
      "needs_background": "light"
     },
     "output_type": "display_data"
    },
    {
     "data": {
      "image/png": "[encoded data removed]",
      "text/plain": [
       "<Figure size 432x288 with 1 Axes>"
      ]
     },
     "metadata": {
      "needs_background": "light"
     },
     "output_type": "display_data"
    }
   ],
   "source": [
    "plt.plot(train_loss_i)\n",
    "plt.plot(val_loss_i)\n",
    "plt.ylabel('Loss')\n",
    "plt.xlabel('epoch')\n",
    "plt.title(\"IMU Loss\")\n",
    "plt.legend(['Train Loss', 'Target Loss'])\n",
    "plt.ylim([0, 4])\n",
    "plt.show()\n",
    "\n",
    "plt.plot(train_loss_v)\n",
    "plt.plot(val_loss_v)\n",
    "plt.ylabel('Loss')\n",
    "plt.xlabel('epoch')\n",
    "plt.title(\"Vibration Loss\")\n",
    "plt.legend(['Train Loss', 'Target Loss'])\n",
    "plt.ylim([0, 4])\n",
    "plt.show()"
   ]
  },
  {
   "cell_type": "code",
   "execution_count": 37,
   "metadata": {},
   "outputs": [],
   "source": [
    "tar_imu_conf_k = np.zeros((y_tar_i_k.shape[0],7))\n",
    "tar_vib_conf_k = np.zeros((y_tar_v_k.shape[0],5))\n",
    "\n",
    "tar_i_k_dataset_for_eval = tf.data.Dataset.from_tensor_slices((X_tar_i_k, y_tar_i_k_keras))\n",
    "tar_i_k_dataset_for_eval = tar_i_k_dataset_for_eval.batch(1)\n",
    "tar_v_k_dataset_for_eval = tf.data.Dataset.from_tensor_slices((X_tar_v_k, y_tar_v_k_keras))\n",
    "tar_v_k_dataset_for_eval = tar_v_k_dataset_for_eval.batch(1)"
   ]
  },
  {
   "cell_type": "code",
   "execution_count": 38,
   "metadata": {},
   "outputs": [
    {
     "name": "stdout",
     "output_type": "stream",
     "text": [
      "Vibration Accuracy, Target Living 0.6388\n",
      "IMU Accuracy, Target Living 0.6492\n"
     ]
    }
   ],
   "source": [
    "tar_acc_v_k, tar_vib_conf_k = model_evaluate(model_vk, acc_metric, tar_v_k_dataset_for_eval , tar_vib_conf_k)\n",
    "tar_acc_i_k, tar_imu_conf_k = model_evaluate(model_ik, acc_metric, tar_i_k_dataset_for_eval , tar_imu_conf_k)\n",
    "print(\"Vibration Accuracy, Target Living %.4f\" % (float(tar_acc_v_k)))\n",
    "print(\"IMU Accuracy, Target Living %.4f\" % (float(tar_acc_i_k)))"
   ]
  },
  {
   "cell_type": "code",
   "execution_count": 39,
   "metadata": {},
   "outputs": [],
   "source": [
    "if save_final:\n",
    "    mat_dic = {\n",
    "        \"tar_imu_conf_w\": tar_imu_conf_w,\n",
    "        \"tar_vib_conf_w\": tar_vib_conf_w,\n",
    "        \"tar_imu_conf_k\": tar_imu_conf_k,\n",
    "        \"tar_vib_conf_k\": tar_vib_conf_k,\n",
    "        }\n",
    "    savemat(\"../output/final_result.mat\", mat_dic)"
   ]
  },
  {
   "cell_type": "markdown",
   "metadata": {},
   "source": [
    "### Now you should go to MATLAB for the final result."
   ]
  },
  {
   "cell_type": "markdown",
   "metadata": {},
   "source": [
    "Run `post_process.m` again. Remember to `load final_result.m` in this time.\n",
    "\n",
    "The AARA of VMA predicting target domain is 0.75112."
   ]
  }
 ],
 "metadata": {
  "interpreter": {
   "hash": "e169a1c1b98568d4a7e285a40e2e83db3750054f846b911e83b0804d146323dd"
  },
  "kernelspec": {
   "display_name": "Python 3.9.7 ('tf2')",
   "language": "python",
   "name": "python3"
  },
  "language_info": {
   "codemirror_mode": {
    "name": "ipython",
    "version": 3
   },
   "file_extension": ".py",
   "mimetype": "text/x-python",
   "name": "python",
   "nbconvert_exporter": "python",
   "pygments_lexer": "ipython3",
   "version": "3.8.10"
  },
  "orig_nbformat": 4
 },
 "nbformat": 4,
 "nbformat_minor": 2
}
